{
 "cells": [
  {
   "cell_type": "markdown",
   "metadata": {},
   "source": [
    "Вы работаете секретарем и вам постоянно приходят различные документы. Вы должны быть очень внимательны, чтобы не потерять ни один документ. Каталог документов хранится в следующем виде:"
   ]
  },
  {
   "cell_type": "code",
   "execution_count": 1,
   "metadata": {},
   "outputs": [],
   "source": [
    "documents = [\n",
    "    {'type': 'passport', 'number': '2207 876234', 'name': 'Василий Гупкин'},\n",
    "    {'type': 'invoice', 'number': '11-2', 'name': 'Геннадий Покемонов'},\n",
    "    {'type': 'insurance', 'number': '10006', 'name': 'Аристарх Павлов'}\n",
    "]"
   ]
  },
  {
   "cell_type": "markdown",
   "metadata": {},
   "source": [
    "Перечень полок, на которых находятся документы хранится в следующем виде:"
   ]
  },
  {
   "cell_type": "code",
   "execution_count": 2,
   "metadata": {},
   "outputs": [],
   "source": [
    "directories = {\n",
    "    '1': ['2207 876234', '11-2'],\n",
    "    '2': ['10006'],\n",
    "    '3': []\n",
    "}"
   ]
  },
  {
   "cell_type": "markdown",
   "metadata": {},
   "source": [
    "Необходимо реализовать пользовательские команды (внимание! это не название функций, которые должны быть выразительными, а команды, которые вводит пользователь, чтобы получить необходимый результат):\n",
    "  \n",
    "- p – people – команда, которая спросит номер документа и выведет имя человека, которому он принадлежит;  \n",
    "- s – shelf – команда, которая спросит номер документа и выведет номер полки, на которой он находится  \n",
    "*Правильно обработайте ситуации, когда пользователь будет вводить несуществующий документ*.\n",
    "- l – list – команда, которая выведет список всех документов в формате   \n",
    "**passport \"2207 876234\" \"Василий Гупкин\"**  \n",
    "- as – add shelf – команда, которая спросит номер новой полки и добавит ее в перечень. *Предусмотрите случай, когда пользователь добавляет полку, которая уже существует*.\n",
    "- d – delete – команда, которая спросит номер документа и удалит его из каталога и из перечня полок. *Предусмотрите сценарий, когда пользователь вводит несуществующий документ*;  \n",
    "- m – move – команда, которая спросит номер документа и целевую полку и переместит его с текущей полки на целевую. *Корректно обработайте кейсы, когда пользователь пытается переместить несуществующий документ или переместить документ на несуществующую полку*;  \n",
    "- a – add – команда, которая добавит новый документ в каталог и в перечень полок, спросив его номер, тип, имя владельца и номер полки, на котором он будет храниться. *Корректно обработайте ситуацию, когда пользователь будет пытаться добавить документ на несуществующую полку*."
   ]
  },
  {
   "cell_type": "code",
   "execution_count": null,
   "metadata": {
    "scrolled": true
   },
   "outputs": [],
   "source": []
  },
  {
   "cell_type": "code",
   "execution_count": 23,
   "metadata": {},
   "outputs": [],
   "source": [
    "#Решение\n",
    "def my_function():\n",
    "    \n",
    "    user_choice = ''\n",
    "\n",
    "\n",
    "    while user_choice != 'p' or user_choice != 's' or user_choice != 'l' or user_choice != 'as' or user_choice != 'd' or user_choice != 'm' or user_choice != 'a':\n",
    "        user_choice = str.lower(input('p – people, s – shelf, l – list, as – add shelf, d – delete, m – move, a – add: '))\n",
    "        if user_choice == 'p' or user_choice == 's' or user_choice == 'l' or user_choice == 'as' or user_choice == 'd' or user_choice == 'm' or user_choice == 'a':\n",
    "            break\n",
    "    # p ______________________________________________________________________\n",
    "    if user_choice == 'p':\n",
    "        number = input('Введите номер документа: ')\n",
    "        number_of_documents = len(documents)\n",
    "        for i in documents:\n",
    "            if i.get('number', 'Не найден') == number:\n",
    "                print(i['name'])\n",
    "            else:\n",
    "                number_of_documents -= 1\n",
    "            if number_of_documents == 0:\n",
    "                print(f'Документ под номером \"{number}\" не найден')\n",
    "    # s ______________________________________________________________________\n",
    "    if user_choice == 's':\n",
    "        number = input('Введите номер документа: ')\n",
    "        number_of_shelves = len(directories)\n",
    "        for shelf, docs in directories.items():\n",
    "            if number in docs:\n",
    "                print(f'Документ с номеро {number} хранится на полке {shelf}.')\n",
    "            else:\n",
    "                number_of_shelves -= 1\n",
    "        if number_of_shelves == 0:\n",
    "            print(f'Документ с номером {number} не найден.')\n",
    "    # l ______________________________________________________________________\n",
    "    if user_choice == 'l':\n",
    "        for i in documents:\n",
    "            print('**', i.get('type', 'Пусто'), ' \"',i.get('number', 'Пусто'),'\"', ' \"',i.get('name', 'Пусто'),'\"', '**', sep='')\n",
    "    # as ______________________________________________________________________\n",
    "    if user_choice == 'as':\n",
    "        new_shelf = input('Введите номер новой полки: ')\n",
    "        print(directories.get(new_shelf, f'Полка {new_shelf} создана'))\n",
    "        directories.setdefault(new_shelf, [])\n",
    "    # d ______________________________________________________________________\n",
    "    if user_choice == 'd':\n",
    "        number_of_documents = len(documents)\n",
    "        number = input('Введите номер документа: ')\n",
    "        for i in documents:\n",
    "            if number == i.get('number', 'Не найден'):\n",
    "                del(i['type'])\n",
    "                del(i['number'])\n",
    "                del(i['name'])\n",
    "                print(f'Документ под номером {number} удалён')\n",
    "            else:\n",
    "                number_of_documents -= 1\n",
    "        for shelf, docs in directories.items():\n",
    "            if number in docs:\n",
    "                docs.remove(number)\n",
    "        if number_of_documents == 0:\n",
    "                print(f'Документ под номером \"{number}\" не найден')\n",
    "    # m ______________________________________________________________________\n",
    "    if user_choice == 'm':\n",
    "        print(documents)\n",
    "        print(directories)\n",
    "        number = input('Введите номер документа: ')\n",
    "        shelf_move = input('Введите номер полки для перемещения: ')\n",
    "        number_of_documents = len(documents)\n",
    "        for i in documents:\n",
    "                if i.get('number', 'Не найден') == number:\n",
    "                    if shelf_move in directories.keys():\n",
    "                        for shelf, docs in directories.items():\n",
    "                            if number in docs:\n",
    "                                for el in docs:\n",
    "                                    if el == number:\n",
    "                                        docs.remove(el)\n",
    "                            if shelf == shelf_move:\n",
    "                                docs.append(number)\n",
    "                    else:\n",
    "                        print(f'Полки с номером {shelf_move} не существует')\n",
    "                else:\n",
    "                    number_of_documents -= 1\n",
    "                if number_of_documents == 0:\n",
    "                    print(f'Документ под номером \"{number}\" не найден')\n",
    "        print(directories)\n",
    "    # a ______________________________________________________________________\n",
    "    if user_choice == 'a':\n",
    "    #     print(documents)\n",
    "    #     print(directories)\n",
    "        number = input('Введите номер нового документа: ')\n",
    "        shelf_put = input('Введите номер полки: ')\n",
    "        number_of_documents = len(documents)\n",
    "        for i in documents:\n",
    "            if i.get('number', None) != number:\n",
    "                number_of_documents -= 1\n",
    "            else:\n",
    "                print(f'Документ под номером \"{number}\" уже существует')\n",
    "                print(i)\n",
    "        if number_of_documents == 0:\n",
    "            if shelf_put in directories.keys():\n",
    "                name = input('Введите имя владельца документа: ')\n",
    "                doc_type = input('Введите тип нового документа: ')\n",
    "                documents.append({'type': doc_type, 'number': number, 'name': name})\n",
    "                for shelf, docs in directories.items():\n",
    "                    if shelf == shelf_put:\n",
    "                        docs.append(number)\n",
    "    #             print(documents)\n",
    "    #             print(directories)\n",
    "            else:\n",
    "                print(f'Полки с номером {shelf_put} не существует')\n",
    "    return"
   ]
  },
  {
   "cell_type": "code",
   "execution_count": 24,
   "metadata": {},
   "outputs": [
    {
     "name": "stdout",
     "output_type": "stream",
     "text": [
      "p – people, s – shelf, l – list, as – add shelf, d – delete, m – move, a – add: r\n",
      "p – people, s – shelf, l – list, as – add shelf, d – delete, m – move, a – add: s\n",
      "Введите номер документа: 11-2\n",
      "Документ с номеро 11-2 хранится на полке 1.\n"
     ]
    }
   ],
   "source": [
    "my_function()"
   ]
  }
 ],
 "metadata": {
  "kernelspec": {
   "display_name": "Python 3",
   "language": "python",
   "name": "python3"
  },
  "language_info": {
   "codemirror_mode": {
    "name": "ipython",
    "version": 3
   },
   "file_extension": ".py",
   "mimetype": "text/x-python",
   "name": "python",
   "nbconvert_exporter": "python",
   "pygments_lexer": "ipython3",
   "version": "3.7.6"
  }
 },
 "nbformat": 4,
 "nbformat_minor": 2
}
