{
 "cells": [
  {
   "cell_type": "markdown",
   "metadata": {},
   "source": [
    "**Задание 1**. Даны 2 строки: *long_phrase* и *short_phrase*. \n",
    "Напишите код, который проверяет действительно ли длинная фраза *long_phrase* длиннее короткой *short_phrase*. И выводит *True* или *False* в зависимости от результата сравнения."
   ]
  },
  {
   "cell_type": "code",
   "execution_count": null,
   "metadata": {},
   "outputs": [],
   "source": [
    "long_phrase = 'Насколько проще было бы писать программы, если бы не заказчики'\n",
    "short_phrase = '640Кб должно хватить для любых задач. Билл Гейтс (по легенде)'"
   ]
  },
  {
   "cell_type": "code",
   "execution_count": null,
   "metadata": {},
   "outputs": [],
   "source": [
    "# Решение\n",
    "long_phrase = 'Насколько проще было бы писать программы, если бы не заказчики'\n",
    "short_phrase = '640Кб должно хватить для любых задач. Билл Гейтс (по легенде)'\n",
    "len(long_phrase) > len(short_phrase)"
   ]
  },
  {
   "cell_type": "markdown",
   "metadata": {},
   "source": [
    "**Задание 2**. Дано значение объема файла в байтах (*в мегабайте 2^20 байт*). Напишите перевод этого значения в мегабайты в формате: \"*Объем файла равен 213.68Mb*\"."
   ]
  },
  {
   "cell_type": "code",
   "execution_count": null,
   "metadata": {},
   "outputs": [],
   "source": [
    "# Решение\n",
    "b = input('Для перевода в Мегабайты введите значение в Байтах: ')\n",
    "Mb = int(b)/(2**20)\n",
    "print('Объем файла равен' , round(Mb,2) , 'Mb')"
   ]
  },
  {
   "cell_type": "markdown",
   "metadata": {},
   "source": [
    "**Задание 3**. Разработать приложение для определения знака зодиака по дате рождения. Пример:\n",
    "\n",
    "Введите месяц: март\n",
    "\n",
    "Введите число: 6\n",
    "\n",
    "Вывод:\n",
    "Рыбы"
   ]
  },
  {
   "cell_type": "code",
   "execution_count": 5,
   "metadata": {},
   "outputs": [
    {
     "name": "stdout",
     "output_type": "stream",
     "text": [
      "Введите месяц Вашего рождения (например, январь): июнь\n",
      "...а теперь день: 2\n",
      "Вы - Близнецы\n"
     ]
    }
   ],
   "source": [
    "# Решение\n",
    "# определяются переменные\n",
    "month = 0\n",
    "day = 0\n",
    "\n",
    "# механизм корректного формата ввода месяца, например, не gggg\n",
    "while month != 'январь' or month != 'Январь' or month != 'февраль' or month != 'Февраль' or month != 'март' or month != 'Март' or month != 'апрель' or month != 'Апрель' or month != 'май' or month != 'Май' or month != 'июнь' or month != 'Июнь' or month != 'июль' or month != 'Июль' or month != 'август' or month != 'Август' or month != 'сентябрь' or month != 'Сентябрь' or month != 'октябрь' or month != 'Октябрь' or month != 'ноябрь' or month != 'Ноябрь' or month != 'декабрь' or month != 'Декабрь':\n",
    "    month = input('Введите месяц Вашего рождения (например, январь): ')\n",
    "    if month == 'январь' or month == 'Январь' or month == 'февраль' or month == 'Февраль' or month == 'март' or month == 'Март' or month == 'апрель' or month == 'Апрель' or month == 'май' or month == 'Май' or month == 'июнь' or month == 'Июнь' or month == 'июль' or month == 'Июль' or month == 'август' or month == 'Август' or month == 'сентябрь' or month == 'Сентябрь' or month == 'октябрь' or month == 'Октябрь' or month == 'ноябрь' or month == 'Ноябрь' or month == 'декабрь' or month == 'Декабрь':\n",
    "        break\n",
    "\n",
    "# январь\n",
    "if month == 'январь' or month == 'Январь':\n",
    "    while not 1 <= int(day) <= 31:    # механизм корректного формата ввода дня, например, не 0 и не 32\n",
    "        day = input('...а теперь день: ')\n",
    "        if 1 <= int(day) <= 19:\n",
    "            print('Вы - Козерог')\n",
    "        elif 20 <= int(day) <= 31:\n",
    "            print('Вы - Водолей')\n",
    "            \n",
    "# февраль\n",
    "if month == 'февраль' or month == 'Февраль':\n",
    "    while not 1 <= int(day) <= 29:\n",
    "        day = input('...а теперь день: ')\n",
    "        if 1 <= int(day) <= 18:\n",
    "            print('Вы - Водолей')\n",
    "        elif 19 <= int(day) <= 29:\n",
    "            print('Вы - Рыбы')\n",
    "# март\n",
    "if month == 'март' or month == 'Март':\n",
    "    while not 1 <= int(day) <= 31:\n",
    "        day = input('...а теперь день: ')\n",
    "        if 1 <= int(day) <= 20:\n",
    "            print('Вы - Рыбы')\n",
    "        elif 21 <= int(day) <= 31:\n",
    "            print('Вы - Овен')\n",
    "# апрель\n",
    "if month == 'апрель' or month == 'Апрель':\n",
    "    while not 1 <= int(day) <= 30:\n",
    "        day = input('...а теперь день: ')\n",
    "        if 1 <= int(day) <= 19:\n",
    "            print('Вы - Овен')\n",
    "        elif 20 <= int(day) <= 30:\n",
    "            print('Вы - Телец')\n",
    "# май\n",
    "if month == 'май' or month == 'Май':\n",
    "    while not 1 <= int(day) <= 31:\n",
    "        day = input('...а теперь день: ')\n",
    "        if 1 <= int(day) <= 20:\n",
    "            print('Вы - Телец')\n",
    "        elif 21 <= int(day) <= 31:\n",
    "            print('Вы - Близнецы')\n",
    "# июнь\n",
    "if month == 'июнь' or month == 'Июнь':\n",
    "    while not 1 <= int(day) <= 30:\n",
    "        day = input('...а теперь день: ')\n",
    "        if 1 <= int(day) <= 20:\n",
    "            print('Вы - Близнецы')\n",
    "        elif 21 <= int(day) <= 30:\n",
    "            print('Вы - Рак')            \n",
    "# июль\n",
    "if month == 'июль' or month == 'Июль':\n",
    "    while not 1 <= int(day) <= 31:\n",
    "        day = input('...а теперь день: ')\n",
    "        if 1 <= int(day) <= 22:\n",
    "            print('Вы - Рак')\n",
    "        elif 23 <= int(day) <= 31:\n",
    "            print('Вы - Лев')\n",
    "# август\n",
    "if month == 'август' or month == 'Август':\n",
    "    while not 1 <= int(day) <= 31:\n",
    "        day = input('...а теперь день: ')\n",
    "        if 1 <= int(day) <= 22:\n",
    "            print('Вы - Лев')\n",
    "        elif 23 <= int(day) <= 31:\n",
    "            print('Вы - Дева')\n",
    "# сентябрь\n",
    "if month == 'сентярь' or month == 'Сентябрь':\n",
    "    while not 1 <= int(day) <= 30:\n",
    "        day = input('...а теперь день: ')\n",
    "        if 1 <= int(day) <= 22:\n",
    "            print('Вы - Дева')\n",
    "        elif 23 <= int(day) <= 30:\n",
    "            print('Вы - Весы')\n",
    "# октярь\n",
    "if month == 'октябрь' or month == 'Октябрь':\n",
    "    while not 1 <= int(day) <= 31:\n",
    "        day = input('...а теперь день: ')\n",
    "        if 1 <= int(day) <= 22:\n",
    "            print('Вы - Весы')\n",
    "        elif 23 <= int(day) <= 31:\n",
    "            print('Вы - Скорпион')\n",
    "# ноябрь\n",
    "if month == 'ноябрь' or month == 'Ноябрь':\n",
    "    while not 1 <= int(day) <= 30:\n",
    "        day = input('...а теперь день: ')\n",
    "        if 1 <= int(day) <= 21:\n",
    "            print('Вы - Скорпион')\n",
    "        elif 22 <= int(day) <= 30:\n",
    "            print('Вы - Стрелец')\n",
    "# декабрь\n",
    "if month == 'декабрь' or month == 'Декабрь':\n",
    "    while not 1 <= int(day) <= 31:\n",
    "        day = input('...а теперь день: ')\n",
    "        if 1 <= int(day) <= 21:\n",
    "            print('Вы - Стрелец')\n",
    "        elif 22 <= int(day) <= 31:\n",
    "            print('Вы - Козерог')"
   ]
  },
  {
   "cell_type": "markdown",
   "metadata": {},
   "source": [
    "**Задание 4**. Нужно разработать приложение для финансового планирования.\n",
    "Приложение учитывает сколько уходит на ипотеку, \"на жизнь\" и сколько нужно отложить на пенсию.\n",
    "Пользователь вводит:\n",
    "- заработанную плату в месяц.\n",
    "- сколько процентов от ЗП уходит на ипотеку.\n",
    "- сколько процентов от ЗП уходит \"на жизнь\".\n",
    "- сколько раз приходит премия в год.\n",
    "\n",
    "Остальная часть заработанной платы откладывается на пенсию.\n",
    "\n",
    "Также пользователю приходит премия в размере зарплаты, от которой половина уходит на отпуск, а вторая половина откладывается.\n",
    "\n",
    "Программа должна учитывать сколько премий было в год.\n",
    "\n",
    "Нужно вывести сколько денег тратит пользователь на ипотеку и сколько он накопит за год.\n",
    "\n",
    "Пример:\n",
    "\n",
    "Введите заработанную плату в месяц: 100000\n",
    "\n",
    "Введите сколько процентов уходит на ипотеку: 30\n",
    "\n",
    "Введите сколько процентов уходит на жизнь: 50\n",
    "\n",
    "Введите количество премий за год: 2\n",
    "\n",
    "Вывод:\n",
    "На ипотеку было потрачено: 360000 рублей\n",
    "Было накоплено: 340000 рублей"
   ]
  }
 ],
 "metadata": {
  "kernelspec": {
   "display_name": "Python 3",
   "language": "python",
   "name": "python3"
  },
  "language_info": {
   "codemirror_mode": {
    "name": "ipython",
    "version": 3
   },
   "file_extension": ".py",
   "mimetype": "text/x-python",
   "name": "python",
   "nbconvert_exporter": "python",
   "pygments_lexer": "ipython3",
   "version": "3.7.6"
  }
 },
 "nbformat": 4,
 "nbformat_minor": 2
}
